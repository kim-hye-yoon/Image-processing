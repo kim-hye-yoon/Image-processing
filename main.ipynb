{
 "cells": [
  {
   "cell_type": "code",
   "execution_count": 6,
   "metadata": {},
   "outputs": [
    {
     "data": {
      "text/plain": [
       "-1"
      ]
     },
     "execution_count": 6,
     "metadata": {},
     "output_type": "execute_result"
    }
   ],
   "source": [
    "#a. Cân bằng histogram\n",
    "import cv2 as cv\n",
    "\n",
    "# Đọc ảnh\n",
    "org = cv.imread('frog.jpg', cv.IMREAD_GRAYSCALE)\n",
    "\n",
    "# Thay đổi kích thước ảnh\n",
    "down_width = 300\n",
    "down_height = 300\n",
    "down_points = (down_width, down_height)\n",
    "rd = cv.resize(org, down_points, interpolation= cv.INTER_LINEAR)\n",
    "\n",
    "# Sử dụng hàm cv2.eqalizeHist\n",
    "res = cv.equalizeHist(rd)\n",
    "\n",
    "# Hiển thị kết quả\n",
    "cv.imshow('Original Image', rd)\n",
    "cv.imshow('Equalized Image', res)\n",
    "\n",
    "cv.waitKey()"
   ]
  },
  {
   "cell_type": "code",
   "execution_count": 7,
   "metadata": {},
   "outputs": [
    {
     "data": {
      "text/plain": [
       "-1"
      ]
     },
     "execution_count": 7,
     "metadata": {},
     "output_type": "execute_result"
    }
   ],
   "source": [
    "#b. Tuyến tính\n",
    "import cv2 as cv\n",
    "import numpy as np\n",
    "# Đọc ảnh\n",
    "org = cv.imread('frog.jpg', cv.IMREAD_GRAYSCALE)\n",
    "\n",
    "# Thay đổi kích thước ảnh\n",
    "down_width = 300\n",
    "down_height = 300\n",
    "down_points = (down_width, down_height)\n",
    "rd = cv.resize(org, down_points, interpolation= cv.INTER_LINEAR)\n",
    "\n",
    "# Create linear function\n",
    "alpha = 1.5 \n",
    "beta = 50 \n",
    "\n",
    "# Thực hiện biến đổi tuyến tính trên ảnh\n",
    "res = cv.convertScaleAbs(rd, alpha=alpha, beta=beta)\n",
    "\n",
    "# Áp dụng bão hòa để giới hạn giá trị pixel trong khoảng [0, 255]\n",
    "res = np.clip(res, 0, 255)\n",
    "\n",
    "# Hiển thị kết quả\n",
    "cv.imshow('Original Image', rd)\n",
    "cv.imshow('Linear Transformation', res)\n",
    "cv.waitKey(0)"
   ]
  },
  {
   "cell_type": "code",
   "execution_count": null,
   "metadata": {},
   "outputs": [],
   "source": [
    "#c. Phi tuyến\n",
    "import cv2 as cv\n",
    "import numpy as np\n",
    "\n",
    "# Đọc ảnh\n",
    "org = cv.imread('frog.jpg', cv.IMREAD_GRAYSCALE)\n",
    "\n",
    "# Thay đổi kích thước ảnh\n",
    "down_width = 300\n",
    "down_height = 300\n",
    "down_points = (down_width, down_height)\n",
    "rd = cv.resize(org, down_points, interpolation= cv.INTER_LINEAR)\n",
    "\n",
    "# Chuyển đổi giá trị pixel sang dạng float và chuẩn hóa về khoảng [0,1]\n",
    "rd = rd/255.0\n",
    "\n",
    "# Định nghĩa giá trị gamma\n",
    "gamma = 1.5\n",
    "\n",
    "# Thực hiện biến đổi gamma\n",
    "res = np.power(rd, gamma)\n",
    "# Chuyển đổi kết quả về dạng uint8 và hiển thị kết quả\n",
    "res = np.uint8(res * 255)\n",
    "\n",
    "#Hiển thị kết quả\n",
    "cv.imshow('Original Image', rd)\n",
    "cv.imshow('Non Linear Transformation', res)\n",
    "cv.waitKey()"
   ]
  }
 ],
 "metadata": {
  "kernelspec": {
   "display_name": "Python 3",
   "language": "python",
   "name": "python3"
  },
  "language_info": {
   "codemirror_mode": {
    "name": "ipython",
    "version": 3
   },
   "file_extension": ".py",
   "mimetype": "text/x-python",
   "name": "python",
   "nbconvert_exporter": "python",
   "pygments_lexer": "ipython3",
   "version": "3.10.10"
  },
  "orig_nbformat": 4
 },
 "nbformat": 4,
 "nbformat_minor": 2
}
